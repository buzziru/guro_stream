{
 "cells": [
  {
   "cell_type": "code",
   "execution_count": 1,
   "id": "6972e10d",
   "metadata": {},
   "outputs": [
    {
     "data": {
      "text/html": [
       "<div>\n",
       "<style scoped>\n",
       "    .dataframe tbody tr th:only-of-type {\n",
       "        vertical-align: middle;\n",
       "    }\n",
       "\n",
       "    .dataframe tbody tr th {\n",
       "        vertical-align: top;\n",
       "    }\n",
       "\n",
       "    .dataframe thead th {\n",
       "        text-align: right;\n",
       "    }\n",
       "</style>\n",
       "<table border=\"1\" class=\"dataframe\">\n",
       "  <thead>\n",
       "    <tr style=\"text-align: right;\">\n",
       "      <th></th>\n",
       "      <th>일시</th>\n",
       "      <th>기온(°C)</th>\n",
       "      <th>누적강수량(mm)</th>\n",
       "      <th>습도(%)</th>\n",
       "      <th>시간당 강수량(mm)</th>\n",
       "    </tr>\n",
       "  </thead>\n",
       "  <tbody>\n",
       "    <tr>\n",
       "      <th>0</th>\n",
       "      <td>2023-06-01 00:00:00</td>\n",
       "      <td>18.550847</td>\n",
       "      <td>0.0</td>\n",
       "      <td>75.827119</td>\n",
       "      <td>0.0</td>\n",
       "    </tr>\n",
       "    <tr>\n",
       "      <th>1</th>\n",
       "      <td>2023-06-01 01:00:00</td>\n",
       "      <td>18.113333</td>\n",
       "      <td>0.0</td>\n",
       "      <td>70.351667</td>\n",
       "      <td>0.0</td>\n",
       "    </tr>\n",
       "    <tr>\n",
       "      <th>2</th>\n",
       "      <td>2023-06-01 02:00:00</td>\n",
       "      <td>17.923333</td>\n",
       "      <td>0.0</td>\n",
       "      <td>68.323333</td>\n",
       "      <td>0.0</td>\n",
       "    </tr>\n",
       "    <tr>\n",
       "      <th>3</th>\n",
       "      <td>2023-06-01 03:00:00</td>\n",
       "      <td>17.253333</td>\n",
       "      <td>0.0</td>\n",
       "      <td>72.021667</td>\n",
       "      <td>0.0</td>\n",
       "    </tr>\n",
       "    <tr>\n",
       "      <th>4</th>\n",
       "      <td>2023-06-01 04:00:00</td>\n",
       "      <td>17.166667</td>\n",
       "      <td>0.0</td>\n",
       "      <td>75.583333</td>\n",
       "      <td>0.0</td>\n",
       "    </tr>\n",
       "  </tbody>\n",
       "</table>\n",
       "</div>"
      ],
      "text/plain": [
       "                    일시     기온(°C)  누적강수량(mm)      습도(%)  시간당 강수량(mm)\n",
       "0  2023-06-01 00:00:00  18.550847        0.0  75.827119          0.0\n",
       "1  2023-06-01 01:00:00  18.113333        0.0  70.351667          0.0\n",
       "2  2023-06-01 02:00:00  17.923333        0.0  68.323333          0.0\n",
       "3  2023-06-01 03:00:00  17.253333        0.0  72.021667          0.0\n",
       "4  2023-06-01 04:00:00  17.166667        0.0  75.583333          0.0"
      ]
     },
     "execution_count": 1,
     "metadata": {},
     "output_type": "execute_result"
    }
   ],
   "source": [
    "import pandas as pd\n",
    "file_path = r'C:\\project\\guro_semi\\data\\전처리\\시간당강수량_2306.csv'\n",
    "df = pd.read_csv(file_path, encoding='utf-8')\n",
    "df.head()"
   ]
  },
  {
   "cell_type": "code",
   "execution_count": 2,
   "id": "ce24b342",
   "metadata": {},
   "outputs": [
    {
     "name": "stdout",
     "output_type": "stream",
     "text": [
      "<class 'pandas.core.frame.DataFrame'>\n",
      "RangeIndex: 721 entries, 0 to 720\n",
      "Data columns (total 5 columns):\n",
      " #   Column       Non-Null Count  Dtype  \n",
      "---  ------       --------------  -----  \n",
      " 0   일시           721 non-null    object \n",
      " 1   기온(°C)       721 non-null    float64\n",
      " 2   누적강수량(mm)    721 non-null    float64\n",
      " 3   습도(%)        721 non-null    float64\n",
      " 4   시간당 강수량(mm)  721 non-null    float64\n",
      "dtypes: float64(4), object(1)\n",
      "memory usage: 28.3+ KB\n"
     ]
    }
   ],
   "source": [
    "df.info()"
   ]
  },
  {
   "cell_type": "code",
   "execution_count": 3,
   "id": "fed84156",
   "metadata": {},
   "outputs": [],
   "source": [
    "ndf = df.copy()"
   ]
  },
  {
   "cell_type": "markdown",
   "id": "62a936d1",
   "metadata": {},
   "source": [
    "# '기상청 날씨누리 - 예보 용어 해설' 참조하여 시간당 강수량을 카테고리로 분류"
   ]
  },
  {
   "cell_type": "code",
   "execution_count": 5,
   "id": "4760b537",
   "metadata": {},
   "outputs": [],
   "source": [
    "def rain(x):\n",
    "    if x == 0:\n",
    "        return '비 없음'\n",
    "    elif x < 3:\n",
    "        return '약한 비'\n",
    "    elif x < 15:\n",
    "        return '보통 비'\n",
    "    elif x < 30:\n",
    "        return '강한 비'\n",
    "    elif x >=30:\n",
    "        return '매우 강한 비'    "
   ]
  },
  {
   "cell_type": "code",
   "execution_count": 6,
   "id": "6272a7e2",
   "metadata": {},
   "outputs": [
    {
     "data": {
      "text/plain": [
       "0      비 없음\n",
       "1      비 없음\n",
       "2      비 없음\n",
       "3      비 없음\n",
       "4      비 없음\n",
       "       ... \n",
       "716    비 없음\n",
       "717    비 없음\n",
       "718    비 없음\n",
       "719    비 없음\n",
       "720    비 없음\n",
       "Name: 강수량 분류, Length: 721, dtype: object"
      ]
     },
     "execution_count": 6,
     "metadata": {},
     "output_type": "execute_result"
    }
   ],
   "source": [
    "ndf['강수량 분류'] = ndf['시간당 강수량(mm)'].apply(rain)\n",
    "ndf['강수량 분류']"
   ]
  },
  {
   "cell_type": "code",
   "execution_count": 7,
   "id": "8edf0293",
   "metadata": {},
   "outputs": [
    {
     "data": {
      "text/plain": [
       "비 없음    664\n",
       "약한 비     38\n",
       "보통 비     18\n",
       "강한 비      1\n",
       "Name: 강수량 분류, dtype: int64"
      ]
     },
     "execution_count": 7,
     "metadata": {},
     "output_type": "execute_result"
    }
   ],
   "source": [
    "ndf['강수량 분류'].value_counts()"
   ]
  },
  {
   "cell_type": "code",
   "execution_count": 8,
   "id": "b3b5a6b3",
   "metadata": {},
   "outputs": [
    {
     "data": {
      "text/html": [
       "<div>\n",
       "<style scoped>\n",
       "    .dataframe tbody tr th:only-of-type {\n",
       "        vertical-align: middle;\n",
       "    }\n",
       "\n",
       "    .dataframe tbody tr th {\n",
       "        vertical-align: top;\n",
       "    }\n",
       "\n",
       "    .dataframe thead th {\n",
       "        text-align: right;\n",
       "    }\n",
       "</style>\n",
       "<table border=\"1\" class=\"dataframe\">\n",
       "  <thead>\n",
       "    <tr style=\"text-align: right;\">\n",
       "      <th></th>\n",
       "      <th>일시</th>\n",
       "      <th>기온(°C)</th>\n",
       "      <th>누적강수량(mm)</th>\n",
       "      <th>습도(%)</th>\n",
       "      <th>시간당 강수량(mm)</th>\n",
       "      <th>강수량 분류</th>\n",
       "    </tr>\n",
       "  </thead>\n",
       "  <tbody>\n",
       "    <tr>\n",
       "      <th>687</th>\n",
       "      <td>2023-06-29 15:00:00</td>\n",
       "      <td>20.25</td>\n",
       "      <td>70.0</td>\n",
       "      <td>98.9</td>\n",
       "      <td>18.5</td>\n",
       "      <td>강한 비</td>\n",
       "    </tr>\n",
       "  </tbody>\n",
       "</table>\n",
       "</div>"
      ],
      "text/plain": [
       "                      일시  기온(°C)  누적강수량(mm)  습도(%)  시간당 강수량(mm) 강수량 분류\n",
       "687  2023-06-29 15:00:00   20.25       70.0   98.9         18.5   강한 비"
      ]
     },
     "execution_count": 8,
     "metadata": {},
     "output_type": "execute_result"
    }
   ],
   "source": [
    "ndf[ndf['강수량 분류'] == '강한 비']"
   ]
  },
  {
   "cell_type": "code",
   "execution_count": 9,
   "id": "f85f69f4",
   "metadata": {},
   "outputs": [
    {
     "data": {
      "text/html": [
       "<div>\n",
       "<style scoped>\n",
       "    .dataframe tbody tr th:only-of-type {\n",
       "        vertical-align: middle;\n",
       "    }\n",
       "\n",
       "    .dataframe tbody tr th {\n",
       "        vertical-align: top;\n",
       "    }\n",
       "\n",
       "    .dataframe thead th {\n",
       "        text-align: right;\n",
       "    }\n",
       "</style>\n",
       "<table border=\"1\" class=\"dataframe\">\n",
       "  <thead>\n",
       "    <tr style=\"text-align: right;\">\n",
       "      <th></th>\n",
       "      <th>일시</th>\n",
       "      <th>기온(°C)</th>\n",
       "      <th>누적강수량(mm)</th>\n",
       "      <th>습도(%)</th>\n",
       "      <th>시간당 강수량(mm)</th>\n",
       "      <th>강수량 분류</th>\n",
       "    </tr>\n",
       "  </thead>\n",
       "  <tbody>\n",
       "    <tr>\n",
       "      <th>680</th>\n",
       "      <td>2023-06-29 08:00:00</td>\n",
       "      <td>21.595000</td>\n",
       "      <td>3.0</td>\n",
       "      <td>98.900000</td>\n",
       "      <td>1.5</td>\n",
       "      <td>약한 비</td>\n",
       "    </tr>\n",
       "    <tr>\n",
       "      <th>681</th>\n",
       "      <td>2023-06-29 09:00:00</td>\n",
       "      <td>21.505000</td>\n",
       "      <td>6.0</td>\n",
       "      <td>98.900000</td>\n",
       "      <td>3.0</td>\n",
       "      <td>보통 비</td>\n",
       "    </tr>\n",
       "    <tr>\n",
       "      <th>682</th>\n",
       "      <td>2023-06-29 10:00:00</td>\n",
       "      <td>21.441667</td>\n",
       "      <td>19.5</td>\n",
       "      <td>98.898333</td>\n",
       "      <td>13.5</td>\n",
       "      <td>보통 비</td>\n",
       "    </tr>\n",
       "    <tr>\n",
       "      <th>683</th>\n",
       "      <td>2023-06-29 11:00:00</td>\n",
       "      <td>20.763333</td>\n",
       "      <td>30.0</td>\n",
       "      <td>98.900000</td>\n",
       "      <td>10.5</td>\n",
       "      <td>보통 비</td>\n",
       "    </tr>\n",
       "    <tr>\n",
       "      <th>684</th>\n",
       "      <td>2023-06-29 12:00:00</td>\n",
       "      <td>21.640000</td>\n",
       "      <td>34.5</td>\n",
       "      <td>98.900000</td>\n",
       "      <td>4.5</td>\n",
       "      <td>보통 비</td>\n",
       "    </tr>\n",
       "    <tr>\n",
       "      <th>685</th>\n",
       "      <td>2023-06-29 13:00:00</td>\n",
       "      <td>21.556667</td>\n",
       "      <td>40.5</td>\n",
       "      <td>98.900000</td>\n",
       "      <td>6.0</td>\n",
       "      <td>보통 비</td>\n",
       "    </tr>\n",
       "    <tr>\n",
       "      <th>686</th>\n",
       "      <td>2023-06-29 14:00:00</td>\n",
       "      <td>20.700000</td>\n",
       "      <td>51.5</td>\n",
       "      <td>98.900000</td>\n",
       "      <td>11.0</td>\n",
       "      <td>보통 비</td>\n",
       "    </tr>\n",
       "    <tr>\n",
       "      <th>687</th>\n",
       "      <td>2023-06-29 15:00:00</td>\n",
       "      <td>20.250000</td>\n",
       "      <td>70.0</td>\n",
       "      <td>98.900000</td>\n",
       "      <td>18.5</td>\n",
       "      <td>강한 비</td>\n",
       "    </tr>\n",
       "    <tr>\n",
       "      <th>688</th>\n",
       "      <td>2023-06-29 16:00:00</td>\n",
       "      <td>20.758333</td>\n",
       "      <td>71.0</td>\n",
       "      <td>98.900000</td>\n",
       "      <td>1.0</td>\n",
       "      <td>약한 비</td>\n",
       "    </tr>\n",
       "    <tr>\n",
       "      <th>689</th>\n",
       "      <td>2023-06-29 17:00:00</td>\n",
       "      <td>21.150000</td>\n",
       "      <td>71.5</td>\n",
       "      <td>98.900000</td>\n",
       "      <td>0.5</td>\n",
       "      <td>약한 비</td>\n",
       "    </tr>\n",
       "  </tbody>\n",
       "</table>\n",
       "</div>"
      ],
      "text/plain": [
       "                      일시     기온(°C)  누적강수량(mm)      습도(%)  시간당 강수량(mm) 강수량 분류\n",
       "680  2023-06-29 08:00:00  21.595000        3.0  98.900000          1.5   약한 비\n",
       "681  2023-06-29 09:00:00  21.505000        6.0  98.900000          3.0   보통 비\n",
       "682  2023-06-29 10:00:00  21.441667       19.5  98.898333         13.5   보통 비\n",
       "683  2023-06-29 11:00:00  20.763333       30.0  98.900000         10.5   보통 비\n",
       "684  2023-06-29 12:00:00  21.640000       34.5  98.900000          4.5   보통 비\n",
       "685  2023-06-29 13:00:00  21.556667       40.5  98.900000          6.0   보통 비\n",
       "686  2023-06-29 14:00:00  20.700000       51.5  98.900000         11.0   보통 비\n",
       "687  2023-06-29 15:00:00  20.250000       70.0  98.900000         18.5   강한 비\n",
       "688  2023-06-29 16:00:00  20.758333       71.0  98.900000          1.0   약한 비\n",
       "689  2023-06-29 17:00:00  21.150000       71.5  98.900000          0.5   약한 비"
      ]
     },
     "execution_count": 9,
     "metadata": {},
     "output_type": "execute_result"
    }
   ],
   "source": [
    "ndf.iloc[680:690]"
   ]
  },
  {
   "cell_type": "code",
   "execution_count": null,
   "id": "36799489",
   "metadata": {},
   "outputs": [],
   "source": []
  }
 ],
 "metadata": {
  "kernelspec": {
   "display_name": "Python 3 (ipykernel)",
   "language": "python",
   "name": "python3"
  },
  "language_info": {
   "codemirror_mode": {
    "name": "ipython",
    "version": 3
   },
   "file_extension": ".py",
   "mimetype": "text/x-python",
   "name": "python",
   "nbconvert_exporter": "python",
   "pygments_lexer": "ipython3",
<<<<<<< HEAD
   "version": "3.9.7"
=======
   "version": "3.10.9"
>>>>>>> 9017990b5b12e6f2fb55000dd6b3cd03e6268ccf
  }
 },
 "nbformat": 4,
 "nbformat_minor": 5
}
